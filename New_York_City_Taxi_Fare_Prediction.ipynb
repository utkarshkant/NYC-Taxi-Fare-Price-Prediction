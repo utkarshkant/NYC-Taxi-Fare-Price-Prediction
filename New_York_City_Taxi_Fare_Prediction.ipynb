{
  "nbformat": 4,
  "nbformat_minor": 0,
  "metadata": {
    "colab": {
      "name": "New York City Taxi Fare Prediction.ipynb",
      "provenance": [],
      "collapsed_sections": []
    },
    "kernelspec": {
      "name": "python3",
      "display_name": "Python 3"
    }
  },
  "cells": [
    {
      "cell_type": "markdown",
      "metadata": {
        "id": "fz5mdRp345YY",
        "colab_type": "text"
      },
      "source": [
        "# New York City Taxi Fare Prediction\n",
        "Can you predict a rider's taxi fare?\n",
        "\n",
        "## Objective\n",
        "Predict the fare amount (inclusive of tolls) for a taxi ride in New York City given the pickup and dropoff locations\n",
        "\n",
        "## Description\n",
        "In this playground competition, hosted in partnership with Google Cloud and Coursera, you are tasked with predicting the fare amount (inclusive of tolls) for a taxi ride in New York City given the pickup and dropoff locations. While you can get a basic estimate based on just the distance between the two points, this will result in an RMSE of $5-$8, depending on the model used (see the starter code for an example of this approach in Kernels). Your challenge is to do better than this using Machine Learning techniques!"
      ]
    },
    {
      "cell_type": "markdown",
      "metadata": {
        "id": "RhSoBute5DWN",
        "colab_type": "text"
      },
      "source": [
        "# Data Source\n",
        "https://www.kaggle.com/c/new-york-city-taxi-fare-prediction/data\n",
        "\n",
        "# File descriptions\n",
        "- **train.csv** - Input features and target fare_amount values for the training set (about 55M rows).\n",
        "- **test.csv** - Input features for the test set (about 10K rows). Your goal is to predict fare_amount for each row.\n",
        "- **sample_submission.csv** - a sample submission file in the correct format (columns key and fare_amount). This file 'predicts' fare_amount to be $11.35 for all rows, which is the mean fare_amount from the training set.\n",
        "\n",
        "# Data fields\n",
        "\n",
        "## ID\n",
        "- **key** - Unique string identifying each row in both the training and test sets. Comprised of pickup_datetime plus a unique integer, but this doesn't matter, it should just be used as a unique ID field. Required in your submission CSV. Not necessarily needed in the training set, but could be useful to simulate a 'submission file' while doing cross-validation within the training set.\n",
        "\n",
        "## Features\n",
        "- **pickup_datetime** - timestamp value indicating when the taxi ride started.\n",
        "- **pickup_longitude** - float for longitude coordinate of where the taxi - ride started.\n",
        "- **pickup_latitude** - float for latitude coordinate of where the taxi ride started.\n",
        "- **dropoff_longitude** - float for longitude coordinate of where the taxi ride ended.\n",
        "- **dropoff_latitude** - float for latitude coordinate of where the taxi ride ended.\n",
        "- **passenger_count** - integer indicating the number of passengers in the taxi ride.\n",
        "\n",
        "## Target\n",
        "- **fare_amount** - float dollar amount of the cost of the taxi ride. This value is only in the training set; this is what you are predicting in the test set and it is required in your submission CSV."
      ]
    },
    {
      "cell_type": "code",
      "metadata": {
        "id": "1bU5c_kz4z_d",
        "colab_type": "code",
        "colab": {
          "base_uri": "https://localhost:8080/",
          "height": 70
        },
        "outputId": "e9b6e357-0e0a-43fc-f00f-e32f9fbf740e"
      },
      "source": [
        "# import standard libraries\n",
        "import pandas as pd\n",
        "import numpy as np\n",
        "import seaborn as sns\n",
        "import matplotlib.pyplot as plt"
      ],
      "execution_count": 2,
      "outputs": [
        {
          "output_type": "stream",
          "text": [
            "/usr/local/lib/python3.6/dist-packages/statsmodels/tools/_testing.py:19: FutureWarning: pandas.util.testing is deprecated. Use the functions in the public API at pandas.testing instead.\n",
            "  import pandas.util.testing as tm\n"
          ],
          "name": "stderr"
        }
      ]
    },
    {
      "cell_type": "code",
      "metadata": {
        "id": "WFTMsZts7HVq",
        "colab_type": "code",
        "colab": {}
      },
      "source": [
        "# jupyter notebook configurations\n",
        "%matplotlib inline\n",
        "sns.set_style('whitegrid')\n",
        "pd.options.display.max_rows = None  # display all rows\n",
        "pd.options.display.max_columns = None  # display all columns\n",
        "# pd.set_option(\"display.max_rows\", 1000)\n",
        "# pd.set_option(\"display.max_columns\", 1000)\n",
        "\n",
        "# supress warnings\n",
        "import warnings\n",
        "warnings.filterwarnings('ignore')"
      ],
      "execution_count": 3,
      "outputs": []
    },
    {
      "cell_type": "code",
      "metadata": {
        "id": "EuZmGV2-7LaO",
        "colab_type": "code",
        "colab": {}
      },
      "source": [
        "# load dataset\n",
        "df = pd.read_csv(\"/content/drive/My Drive/Colab Notebooks/Krish/New York Taxi/taxifare.csv\")  # this is a sampled dataset"
      ],
      "execution_count": 38,
      "outputs": []
    },
    {
      "cell_type": "markdown",
      "metadata": {
        "id": "litJiGhu82XZ",
        "colab_type": "text"
      },
      "source": [
        "# Explore Dataset"
      ]
    },
    {
      "cell_type": "code",
      "metadata": {
        "id": "wCDwwFpj7rX_",
        "colab_type": "code",
        "colab": {
          "base_uri": "https://localhost:8080/",
          "height": 195
        },
        "outputId": "88a880bd-1826-4cad-f2fd-339327a24f57"
      },
      "source": [
        "# preview dataset\n",
        "df.head()"
      ],
      "execution_count": 39,
      "outputs": [
        {
          "output_type": "execute_result",
          "data": {
            "text/html": [
              "<div>\n",
              "<style scoped>\n",
              "    .dataframe tbody tr th:only-of-type {\n",
              "        vertical-align: middle;\n",
              "    }\n",
              "\n",
              "    .dataframe tbody tr th {\n",
              "        vertical-align: top;\n",
              "    }\n",
              "\n",
              "    .dataframe thead th {\n",
              "        text-align: right;\n",
              "    }\n",
              "</style>\n",
              "<table border=\"1\" class=\"dataframe\">\n",
              "  <thead>\n",
              "    <tr style=\"text-align: right;\">\n",
              "      <th></th>\n",
              "      <th>pickup_datetime</th>\n",
              "      <th>fare_amount</th>\n",
              "      <th>fare_class</th>\n",
              "      <th>pickup_longitude</th>\n",
              "      <th>pickup_latitude</th>\n",
              "      <th>dropoff_longitude</th>\n",
              "      <th>dropoff_latitude</th>\n",
              "      <th>passenger_count</th>\n",
              "    </tr>\n",
              "  </thead>\n",
              "  <tbody>\n",
              "    <tr>\n",
              "      <th>0</th>\n",
              "      <td>2010-04-19 08:17:56 UTC</td>\n",
              "      <td>6.5</td>\n",
              "      <td>0</td>\n",
              "      <td>-73.992365</td>\n",
              "      <td>40.730521</td>\n",
              "      <td>-73.975499</td>\n",
              "      <td>40.744746</td>\n",
              "      <td>1</td>\n",
              "    </tr>\n",
              "    <tr>\n",
              "      <th>1</th>\n",
              "      <td>2010-04-17 15:43:53 UTC</td>\n",
              "      <td>6.9</td>\n",
              "      <td>0</td>\n",
              "      <td>-73.990078</td>\n",
              "      <td>40.740558</td>\n",
              "      <td>-73.974232</td>\n",
              "      <td>40.744114</td>\n",
              "      <td>1</td>\n",
              "    </tr>\n",
              "    <tr>\n",
              "      <th>2</th>\n",
              "      <td>2010-04-17 11:23:26 UTC</td>\n",
              "      <td>10.1</td>\n",
              "      <td>1</td>\n",
              "      <td>-73.994149</td>\n",
              "      <td>40.751118</td>\n",
              "      <td>-73.960064</td>\n",
              "      <td>40.766235</td>\n",
              "      <td>2</td>\n",
              "    </tr>\n",
              "    <tr>\n",
              "      <th>3</th>\n",
              "      <td>2010-04-11 21:25:03 UTC</td>\n",
              "      <td>8.9</td>\n",
              "      <td>0</td>\n",
              "      <td>-73.990485</td>\n",
              "      <td>40.756422</td>\n",
              "      <td>-73.971205</td>\n",
              "      <td>40.748192</td>\n",
              "      <td>1</td>\n",
              "    </tr>\n",
              "    <tr>\n",
              "      <th>4</th>\n",
              "      <td>2010-04-17 02:19:01 UTC</td>\n",
              "      <td>19.7</td>\n",
              "      <td>1</td>\n",
              "      <td>-73.990976</td>\n",
              "      <td>40.734202</td>\n",
              "      <td>-73.905956</td>\n",
              "      <td>40.743115</td>\n",
              "      <td>1</td>\n",
              "    </tr>\n",
              "  </tbody>\n",
              "</table>\n",
              "</div>"
            ],
            "text/plain": [
              "           pickup_datetime  fare_amount  fare_class  pickup_longitude  \\\n",
              "0  2010-04-19 08:17:56 UTC          6.5           0        -73.992365   \n",
              "1  2010-04-17 15:43:53 UTC          6.9           0        -73.990078   \n",
              "2  2010-04-17 11:23:26 UTC         10.1           1        -73.994149   \n",
              "3  2010-04-11 21:25:03 UTC          8.9           0        -73.990485   \n",
              "4  2010-04-17 02:19:01 UTC         19.7           1        -73.990976   \n",
              "\n",
              "   pickup_latitude  dropoff_longitude  dropoff_latitude  passenger_count  \n",
              "0        40.730521         -73.975499         40.744746                1  \n",
              "1        40.740558         -73.974232         40.744114                1  \n",
              "2        40.751118         -73.960064         40.766235                2  \n",
              "3        40.756422         -73.971205         40.748192                1  \n",
              "4        40.734202         -73.905956         40.743115                1  "
            ]
          },
          "metadata": {
            "tags": []
          },
          "execution_count": 39
        }
      ]
    },
    {
      "cell_type": "code",
      "metadata": {
        "id": "h2HCC3h87spO",
        "colab_type": "code",
        "colab": {
          "base_uri": "https://localhost:8080/",
          "height": 195
        },
        "outputId": "cd6d3207-9d27-4407-e40d-a7306a1c1d20"
      },
      "source": [
        "df.tail()"
      ],
      "execution_count": 40,
      "outputs": [
        {
          "output_type": "execute_result",
          "data": {
            "text/html": [
              "<div>\n",
              "<style scoped>\n",
              "    .dataframe tbody tr th:only-of-type {\n",
              "        vertical-align: middle;\n",
              "    }\n",
              "\n",
              "    .dataframe tbody tr th {\n",
              "        vertical-align: top;\n",
              "    }\n",
              "\n",
              "    .dataframe thead th {\n",
              "        text-align: right;\n",
              "    }\n",
              "</style>\n",
              "<table border=\"1\" class=\"dataframe\">\n",
              "  <thead>\n",
              "    <tr style=\"text-align: right;\">\n",
              "      <th></th>\n",
              "      <th>pickup_datetime</th>\n",
              "      <th>fare_amount</th>\n",
              "      <th>fare_class</th>\n",
              "      <th>pickup_longitude</th>\n",
              "      <th>pickup_latitude</th>\n",
              "      <th>dropoff_longitude</th>\n",
              "      <th>dropoff_latitude</th>\n",
              "      <th>passenger_count</th>\n",
              "    </tr>\n",
              "  </thead>\n",
              "  <tbody>\n",
              "    <tr>\n",
              "      <th>119995</th>\n",
              "      <td>2010-04-18 14:33:03 UTC</td>\n",
              "      <td>15.3</td>\n",
              "      <td>1</td>\n",
              "      <td>-73.955857</td>\n",
              "      <td>40.784590</td>\n",
              "      <td>-73.981941</td>\n",
              "      <td>40.736789</td>\n",
              "      <td>1</td>\n",
              "    </tr>\n",
              "    <tr>\n",
              "      <th>119996</th>\n",
              "      <td>2010-04-23 10:27:48 UTC</td>\n",
              "      <td>15.3</td>\n",
              "      <td>1</td>\n",
              "      <td>-73.996329</td>\n",
              "      <td>40.772727</td>\n",
              "      <td>-74.049890</td>\n",
              "      <td>40.740413</td>\n",
              "      <td>1</td>\n",
              "    </tr>\n",
              "    <tr>\n",
              "      <th>119997</th>\n",
              "      <td>2010-04-18 18:50:40 UTC</td>\n",
              "      <td>12.5</td>\n",
              "      <td>1</td>\n",
              "      <td>-73.988574</td>\n",
              "      <td>40.749772</td>\n",
              "      <td>-74.011541</td>\n",
              "      <td>40.707799</td>\n",
              "      <td>3</td>\n",
              "    </tr>\n",
              "    <tr>\n",
              "      <th>119998</th>\n",
              "      <td>2010-04-13 08:14:44 UTC</td>\n",
              "      <td>4.9</td>\n",
              "      <td>0</td>\n",
              "      <td>-74.004449</td>\n",
              "      <td>40.724529</td>\n",
              "      <td>-73.992697</td>\n",
              "      <td>40.730765</td>\n",
              "      <td>1</td>\n",
              "    </tr>\n",
              "    <tr>\n",
              "      <th>119999</th>\n",
              "      <td>2010-04-17 16:00:14 UTC</td>\n",
              "      <td>5.3</td>\n",
              "      <td>0</td>\n",
              "      <td>-73.955415</td>\n",
              "      <td>40.771920</td>\n",
              "      <td>-73.967623</td>\n",
              "      <td>40.763015</td>\n",
              "      <td>3</td>\n",
              "    </tr>\n",
              "  </tbody>\n",
              "</table>\n",
              "</div>"
            ],
            "text/plain": [
              "                pickup_datetime  fare_amount  fare_class  pickup_longitude  \\\n",
              "119995  2010-04-18 14:33:03 UTC         15.3           1        -73.955857   \n",
              "119996  2010-04-23 10:27:48 UTC         15.3           1        -73.996329   \n",
              "119997  2010-04-18 18:50:40 UTC         12.5           1        -73.988574   \n",
              "119998  2010-04-13 08:14:44 UTC          4.9           0        -74.004449   \n",
              "119999  2010-04-17 16:00:14 UTC          5.3           0        -73.955415   \n",
              "\n",
              "        pickup_latitude  dropoff_longitude  dropoff_latitude  passenger_count  \n",
              "119995        40.784590         -73.981941         40.736789                1  \n",
              "119996        40.772727         -74.049890         40.740413                1  \n",
              "119997        40.749772         -74.011541         40.707799                3  \n",
              "119998        40.724529         -73.992697         40.730765                1  \n",
              "119999        40.771920         -73.967623         40.763015                3  "
            ]
          },
          "metadata": {
            "tags": []
          },
          "execution_count": 40
        }
      ]
    },
    {
      "cell_type": "markdown",
      "metadata": {
        "id": "ytgI7BjH99tk",
        "colab_type": "text"
      },
      "source": [
        "- `pickup_datetime` is in UTC time\n",
        "- UTC is 4 hours ahead of New York Time"
      ]
    },
    {
      "cell_type": "code",
      "metadata": {
        "id": "Rw-YaeFx71tv",
        "colab_type": "code",
        "colab": {
          "base_uri": "https://localhost:8080/",
          "height": 50
        },
        "outputId": "4fa79a1d-11dc-4e02-e166-268ad65e007e"
      },
      "source": [
        "# size of dataset\n",
        "print(\"# Rows:\", df.shape[0])\n",
        "print(\"# Cols:\", df.shape[1])"
      ],
      "execution_count": 41,
      "outputs": [
        {
          "output_type": "stream",
          "text": [
            "# Rows: 120000\n",
            "# Cols: 8\n"
          ],
          "name": "stdout"
        }
      ]
    },
    {
      "cell_type": "code",
      "metadata": {
        "id": "E0iGrKT28-TA",
        "colab_type": "code",
        "colab": {
          "base_uri": "https://localhost:8080/",
          "height": 151
        },
        "outputId": "5437f7e7-edc6-4b99-86dc-4a45f41878bb"
      },
      "source": [
        "# features of dataset\n",
        "for i in df.columns: print(i)"
      ],
      "execution_count": 42,
      "outputs": [
        {
          "output_type": "stream",
          "text": [
            "pickup_datetime\n",
            "fare_amount\n",
            "fare_class\n",
            "pickup_longitude\n",
            "pickup_latitude\n",
            "dropoff_longitude\n",
            "dropoff_latitude\n",
            "passenger_count\n"
          ],
          "name": "stdout"
        }
      ]
    },
    {
      "cell_type": "code",
      "metadata": {
        "id": "tylCoL6y9XrT",
        "colab_type": "code",
        "colab": {
          "base_uri": "https://localhost:8080/",
          "height": 269
        },
        "outputId": "57175869-ae2e-409d-a418-306c6be2f522"
      },
      "source": [
        "# metadata - data makeup and structure\n",
        "df.info()"
      ],
      "execution_count": 43,
      "outputs": [
        {
          "output_type": "stream",
          "text": [
            "<class 'pandas.core.frame.DataFrame'>\n",
            "RangeIndex: 120000 entries, 0 to 119999\n",
            "Data columns (total 8 columns):\n",
            " #   Column             Non-Null Count   Dtype  \n",
            "---  ------             --------------   -----  \n",
            " 0   pickup_datetime    120000 non-null  object \n",
            " 1   fare_amount        120000 non-null  float64\n",
            " 2   fare_class         120000 non-null  int64  \n",
            " 3   pickup_longitude   120000 non-null  float64\n",
            " 4   pickup_latitude    120000 non-null  float64\n",
            " 5   dropoff_longitude  120000 non-null  float64\n",
            " 6   dropoff_latitude   120000 non-null  float64\n",
            " 7   passenger_count    120000 non-null  int64  \n",
            "dtypes: float64(5), int64(2), object(1)\n",
            "memory usage: 7.3+ MB\n"
          ],
          "name": "stdout"
        }
      ]
    },
    {
      "cell_type": "markdown",
      "metadata": {
        "id": "MnL8xXME-RL5",
        "colab_type": "text"
      },
      "source": [
        "- no missing values\n",
        "- `pickup_datetime` is object data type, i.e., it is a string. We will have to convert it into datetime"
      ]
    },
    {
      "cell_type": "code",
      "metadata": {
        "id": "NXG3XPru9iG7",
        "colab_type": "code",
        "colab": {
          "base_uri": "https://localhost:8080/",
          "height": 168
        },
        "outputId": "7ec5dcbd-3797-4ba6-c279-0b422340bbc1"
      },
      "source": [
        "# check for missing values\n",
        "df.isnull().sum()"
      ],
      "execution_count": 44,
      "outputs": [
        {
          "output_type": "execute_result",
          "data": {
            "text/plain": [
              "pickup_datetime      0\n",
              "fare_amount          0\n",
              "fare_class           0\n",
              "pickup_longitude     0\n",
              "pickup_latitude      0\n",
              "dropoff_longitude    0\n",
              "dropoff_latitude     0\n",
              "passenger_count      0\n",
              "dtype: int64"
            ]
          },
          "metadata": {
            "tags": []
          },
          "execution_count": 44
        }
      ]
    },
    {
      "cell_type": "code",
      "metadata": {
        "id": "HqBaDhnW9l7P",
        "colab_type": "code",
        "colab": {
          "base_uri": "https://localhost:8080/",
          "height": 284
        },
        "outputId": "7b55e94d-3efd-466b-a919-01375f7875ba"
      },
      "source": [
        "# metadata - stats on numerical features\n",
        "df.describe()"
      ],
      "execution_count": 45,
      "outputs": [
        {
          "output_type": "execute_result",
          "data": {
            "text/html": [
              "<div>\n",
              "<style scoped>\n",
              "    .dataframe tbody tr th:only-of-type {\n",
              "        vertical-align: middle;\n",
              "    }\n",
              "\n",
              "    .dataframe tbody tr th {\n",
              "        vertical-align: top;\n",
              "    }\n",
              "\n",
              "    .dataframe thead th {\n",
              "        text-align: right;\n",
              "    }\n",
              "</style>\n",
              "<table border=\"1\" class=\"dataframe\">\n",
              "  <thead>\n",
              "    <tr style=\"text-align: right;\">\n",
              "      <th></th>\n",
              "      <th>fare_amount</th>\n",
              "      <th>fare_class</th>\n",
              "      <th>pickup_longitude</th>\n",
              "      <th>pickup_latitude</th>\n",
              "      <th>dropoff_longitude</th>\n",
              "      <th>dropoff_latitude</th>\n",
              "      <th>passenger_count</th>\n",
              "    </tr>\n",
              "  </thead>\n",
              "  <tbody>\n",
              "    <tr>\n",
              "      <th>count</th>\n",
              "      <td>120000.000000</td>\n",
              "      <td>120000.000000</td>\n",
              "      <td>120000.000000</td>\n",
              "      <td>120000.000000</td>\n",
              "      <td>120000.000000</td>\n",
              "      <td>120000.000000</td>\n",
              "      <td>120000.000000</td>\n",
              "    </tr>\n",
              "    <tr>\n",
              "      <th>mean</th>\n",
              "      <td>10.040326</td>\n",
              "      <td>0.333333</td>\n",
              "      <td>-73.976626</td>\n",
              "      <td>40.751443</td>\n",
              "      <td>-73.974501</td>\n",
              "      <td>40.751695</td>\n",
              "      <td>1.347167</td>\n",
              "    </tr>\n",
              "    <tr>\n",
              "      <th>std</th>\n",
              "      <td>7.500134</td>\n",
              "      <td>0.471406</td>\n",
              "      <td>0.031497</td>\n",
              "      <td>0.025821</td>\n",
              "      <td>0.032419</td>\n",
              "      <td>0.030279</td>\n",
              "      <td>0.759263</td>\n",
              "    </tr>\n",
              "    <tr>\n",
              "      <th>min</th>\n",
              "      <td>2.500000</td>\n",
              "      <td>0.000000</td>\n",
              "      <td>-74.465447</td>\n",
              "      <td>40.121653</td>\n",
              "      <td>-74.443323</td>\n",
              "      <td>40.164927</td>\n",
              "      <td>1.000000</td>\n",
              "    </tr>\n",
              "    <tr>\n",
              "      <th>25%</th>\n",
              "      <td>5.700000</td>\n",
              "      <td>0.000000</td>\n",
              "      <td>-73.992386</td>\n",
              "      <td>40.736594</td>\n",
              "      <td>-73.991478</td>\n",
              "      <td>40.735914</td>\n",
              "      <td>1.000000</td>\n",
              "    </tr>\n",
              "    <tr>\n",
              "      <th>50%</th>\n",
              "      <td>7.700000</td>\n",
              "      <td>0.000000</td>\n",
              "      <td>-73.982084</td>\n",
              "      <td>40.753661</td>\n",
              "      <td>-73.980411</td>\n",
              "      <td>40.754441</td>\n",
              "      <td>1.000000</td>\n",
              "    </tr>\n",
              "    <tr>\n",
              "      <th>75%</th>\n",
              "      <td>11.300000</td>\n",
              "      <td>1.000000</td>\n",
              "      <td>-73.968710</td>\n",
              "      <td>40.768020</td>\n",
              "      <td>-73.965500</td>\n",
              "      <td>40.768880</td>\n",
              "      <td>1.000000</td>\n",
              "    </tr>\n",
              "    <tr>\n",
              "      <th>max</th>\n",
              "      <td>49.900000</td>\n",
              "      <td>1.000000</td>\n",
              "      <td>-73.311845</td>\n",
              "      <td>40.981292</td>\n",
              "      <td>-73.496140</td>\n",
              "      <td>40.993498</td>\n",
              "      <td>5.000000</td>\n",
              "    </tr>\n",
              "  </tbody>\n",
              "</table>\n",
              "</div>"
            ],
            "text/plain": [
              "         fare_amount     fare_class  pickup_longitude  pickup_latitude  \\\n",
              "count  120000.000000  120000.000000     120000.000000    120000.000000   \n",
              "mean       10.040326       0.333333        -73.976626        40.751443   \n",
              "std         7.500134       0.471406          0.031497         0.025821   \n",
              "min         2.500000       0.000000        -74.465447        40.121653   \n",
              "25%         5.700000       0.000000        -73.992386        40.736594   \n",
              "50%         7.700000       0.000000        -73.982084        40.753661   \n",
              "75%        11.300000       1.000000        -73.968710        40.768020   \n",
              "max        49.900000       1.000000        -73.311845        40.981292   \n",
              "\n",
              "       dropoff_longitude  dropoff_latitude  passenger_count  \n",
              "count      120000.000000     120000.000000    120000.000000  \n",
              "mean          -73.974501         40.751695         1.347167  \n",
              "std             0.032419          0.030279         0.759263  \n",
              "min           -74.443323         40.164927         1.000000  \n",
              "25%           -73.991478         40.735914         1.000000  \n",
              "50%           -73.980411         40.754441         1.000000  \n",
              "75%           -73.965500         40.768880         1.000000  \n",
              "max           -73.496140         40.993498         5.000000  "
            ]
          },
          "metadata": {
            "tags": []
          },
          "execution_count": 45
        }
      ]
    },
    {
      "cell_type": "markdown",
      "metadata": {
        "id": "b-p_oMIK-fF1",
        "colab_type": "text"
      },
      "source": [
        "# Feature Engineering"
      ]
    },
    {
      "cell_type": "code",
      "metadata": {
        "id": "YAWKDfG_9s6E",
        "colab_type": "code",
        "colab": {}
      },
      "source": [
        "# convert 'pickup_datetime' into datetime data type\n",
        "import datetime\n",
        "df['pickup_datetime'] = pd.to_datetime(df['pickup_datetime']) - datetime.timedelta(hours=4)  # convert into datetime and subtract 4 hours to bring to NYC time"
      ],
      "execution_count": 46,
      "outputs": []
    },
    {
      "cell_type": "code",
      "metadata": {
        "id": "Y7FT_weh_Ek5",
        "colab_type": "code",
        "colab": {
          "base_uri": "https://localhost:8080/",
          "height": 269
        },
        "outputId": "fe780934-0c93-4816-cb1c-d262f8d03489"
      },
      "source": [
        "df.info()"
      ],
      "execution_count": 47,
      "outputs": [
        {
          "output_type": "stream",
          "text": [
            "<class 'pandas.core.frame.DataFrame'>\n",
            "RangeIndex: 120000 entries, 0 to 119999\n",
            "Data columns (total 8 columns):\n",
            " #   Column             Non-Null Count   Dtype              \n",
            "---  ------             --------------   -----              \n",
            " 0   pickup_datetime    120000 non-null  datetime64[ns, UTC]\n",
            " 1   fare_amount        120000 non-null  float64            \n",
            " 2   fare_class         120000 non-null  int64              \n",
            " 3   pickup_longitude   120000 non-null  float64            \n",
            " 4   pickup_latitude    120000 non-null  float64            \n",
            " 5   dropoff_longitude  120000 non-null  float64            \n",
            " 6   dropoff_latitude   120000 non-null  float64            \n",
            " 7   passenger_count    120000 non-null  int64              \n",
            "dtypes: datetime64[ns, UTC](1), float64(5), int64(2)\n",
            "memory usage: 7.3 MB\n"
          ],
          "name": "stdout"
        }
      ]
    },
    {
      "cell_type": "code",
      "metadata": {
        "id": "OlV8qzSw_IYf",
        "colab_type": "code",
        "colab": {
          "base_uri": "https://localhost:8080/",
          "height": 136
        },
        "outputId": "e4bec552-03c2-48c7-a9a5-7395881e76b4"
      },
      "source": [
        "# preview dataset\n",
        "df.head(3)  # 'pickup_datetime' feature has been transformed"
      ],
      "execution_count": 48,
      "outputs": [
        {
          "output_type": "execute_result",
          "data": {
            "text/html": [
              "<div>\n",
              "<style scoped>\n",
              "    .dataframe tbody tr th:only-of-type {\n",
              "        vertical-align: middle;\n",
              "    }\n",
              "\n",
              "    .dataframe tbody tr th {\n",
              "        vertical-align: top;\n",
              "    }\n",
              "\n",
              "    .dataframe thead th {\n",
              "        text-align: right;\n",
              "    }\n",
              "</style>\n",
              "<table border=\"1\" class=\"dataframe\">\n",
              "  <thead>\n",
              "    <tr style=\"text-align: right;\">\n",
              "      <th></th>\n",
              "      <th>pickup_datetime</th>\n",
              "      <th>fare_amount</th>\n",
              "      <th>fare_class</th>\n",
              "      <th>pickup_longitude</th>\n",
              "      <th>pickup_latitude</th>\n",
              "      <th>dropoff_longitude</th>\n",
              "      <th>dropoff_latitude</th>\n",
              "      <th>passenger_count</th>\n",
              "    </tr>\n",
              "  </thead>\n",
              "  <tbody>\n",
              "    <tr>\n",
              "      <th>0</th>\n",
              "      <td>2010-04-19 04:17:56+00:00</td>\n",
              "      <td>6.5</td>\n",
              "      <td>0</td>\n",
              "      <td>-73.992365</td>\n",
              "      <td>40.730521</td>\n",
              "      <td>-73.975499</td>\n",
              "      <td>40.744746</td>\n",
              "      <td>1</td>\n",
              "    </tr>\n",
              "    <tr>\n",
              "      <th>1</th>\n",
              "      <td>2010-04-17 11:43:53+00:00</td>\n",
              "      <td>6.9</td>\n",
              "      <td>0</td>\n",
              "      <td>-73.990078</td>\n",
              "      <td>40.740558</td>\n",
              "      <td>-73.974232</td>\n",
              "      <td>40.744114</td>\n",
              "      <td>1</td>\n",
              "    </tr>\n",
              "    <tr>\n",
              "      <th>2</th>\n",
              "      <td>2010-04-17 07:23:26+00:00</td>\n",
              "      <td>10.1</td>\n",
              "      <td>1</td>\n",
              "      <td>-73.994149</td>\n",
              "      <td>40.751118</td>\n",
              "      <td>-73.960064</td>\n",
              "      <td>40.766235</td>\n",
              "      <td>2</td>\n",
              "    </tr>\n",
              "  </tbody>\n",
              "</table>\n",
              "</div>"
            ],
            "text/plain": [
              "            pickup_datetime  fare_amount  fare_class  pickup_longitude  \\\n",
              "0 2010-04-19 04:17:56+00:00          6.5           0        -73.992365   \n",
              "1 2010-04-17 11:43:53+00:00          6.9           0        -73.990078   \n",
              "2 2010-04-17 07:23:26+00:00         10.1           1        -73.994149   \n",
              "\n",
              "   pickup_latitude  dropoff_longitude  dropoff_latitude  passenger_count  \n",
              "0        40.730521         -73.975499         40.744746                1  \n",
              "1        40.740558         -73.974232         40.744114                1  \n",
              "2        40.751118         -73.960064         40.766235                2  "
            ]
          },
          "metadata": {
            "tags": []
          },
          "execution_count": 48
        }
      ]
    },
    {
      "cell_type": "code",
      "metadata": {
        "id": "EVDN0rDtAHr0",
        "colab_type": "code",
        "colab": {}
      },
      "source": [
        "# create new features for timestamps\n",
        "df['year'] = df['pickup_datetime'].dt.year  # year\n",
        "df['month'] = df['pickup_datetime'].dt.month  # month in year\n",
        "df['day'] = df['pickup_datetime'].dt.day  # day of the month\n",
        "df['hour'] = df['pickup_datetime'].dt.hour  # hour of the day\n",
        "df['minute'] = df['pickup_datetime'].dt.minute  # minute\n",
        "df['day_of_week'] = df['pickup_datetime'].dt.dayofweek # gives only the index(0-monday,6-sunday)\n",
        "df['weekend'] = np.where(df['day_of_week']==5,1,0)  # weekend or not < saturday\n",
        "df['weekend'] = np.where(df['day_of_week']==6,1,0)  # weekend or not < sunday"
      ],
      "execution_count": 49,
      "outputs": []
    },
    {
      "cell_type": "code",
      "metadata": {
        "id": "rDJUxbO-ElAG",
        "colab_type": "code",
        "colab": {
          "base_uri": "https://localhost:8080/",
          "height": 531
        },
        "outputId": "87aa0254-fd37-4b78-e8c9-a3d1faeae00d"
      },
      "source": [
        "# preview dataset\n",
        "df.head(10)"
      ],
      "execution_count": 50,
      "outputs": [
        {
          "output_type": "execute_result",
          "data": {
            "text/html": [
              "<div>\n",
              "<style scoped>\n",
              "    .dataframe tbody tr th:only-of-type {\n",
              "        vertical-align: middle;\n",
              "    }\n",
              "\n",
              "    .dataframe tbody tr th {\n",
              "        vertical-align: top;\n",
              "    }\n",
              "\n",
              "    .dataframe thead th {\n",
              "        text-align: right;\n",
              "    }\n",
              "</style>\n",
              "<table border=\"1\" class=\"dataframe\">\n",
              "  <thead>\n",
              "    <tr style=\"text-align: right;\">\n",
              "      <th></th>\n",
              "      <th>pickup_datetime</th>\n",
              "      <th>fare_amount</th>\n",
              "      <th>fare_class</th>\n",
              "      <th>pickup_longitude</th>\n",
              "      <th>pickup_latitude</th>\n",
              "      <th>dropoff_longitude</th>\n",
              "      <th>dropoff_latitude</th>\n",
              "      <th>passenger_count</th>\n",
              "      <th>year</th>\n",
              "      <th>month</th>\n",
              "      <th>day</th>\n",
              "      <th>hour</th>\n",
              "      <th>minute</th>\n",
              "      <th>day_of_week</th>\n",
              "      <th>weekend</th>\n",
              "    </tr>\n",
              "  </thead>\n",
              "  <tbody>\n",
              "    <tr>\n",
              "      <th>0</th>\n",
              "      <td>2010-04-19 04:17:56+00:00</td>\n",
              "      <td>6.5</td>\n",
              "      <td>0</td>\n",
              "      <td>-73.992365</td>\n",
              "      <td>40.730521</td>\n",
              "      <td>-73.975499</td>\n",
              "      <td>40.744746</td>\n",
              "      <td>1</td>\n",
              "      <td>2010</td>\n",
              "      <td>4</td>\n",
              "      <td>19</td>\n",
              "      <td>4</td>\n",
              "      <td>17</td>\n",
              "      <td>0</td>\n",
              "      <td>0</td>\n",
              "    </tr>\n",
              "    <tr>\n",
              "      <th>1</th>\n",
              "      <td>2010-04-17 11:43:53+00:00</td>\n",
              "      <td>6.9</td>\n",
              "      <td>0</td>\n",
              "      <td>-73.990078</td>\n",
              "      <td>40.740558</td>\n",
              "      <td>-73.974232</td>\n",
              "      <td>40.744114</td>\n",
              "      <td>1</td>\n",
              "      <td>2010</td>\n",
              "      <td>4</td>\n",
              "      <td>17</td>\n",
              "      <td>11</td>\n",
              "      <td>43</td>\n",
              "      <td>5</td>\n",
              "      <td>0</td>\n",
              "    </tr>\n",
              "    <tr>\n",
              "      <th>2</th>\n",
              "      <td>2010-04-17 07:23:26+00:00</td>\n",
              "      <td>10.1</td>\n",
              "      <td>1</td>\n",
              "      <td>-73.994149</td>\n",
              "      <td>40.751118</td>\n",
              "      <td>-73.960064</td>\n",
              "      <td>40.766235</td>\n",
              "      <td>2</td>\n",
              "      <td>2010</td>\n",
              "      <td>4</td>\n",
              "      <td>17</td>\n",
              "      <td>7</td>\n",
              "      <td>23</td>\n",
              "      <td>5</td>\n",
              "      <td>0</td>\n",
              "    </tr>\n",
              "    <tr>\n",
              "      <th>3</th>\n",
              "      <td>2010-04-11 17:25:03+00:00</td>\n",
              "      <td>8.9</td>\n",
              "      <td>0</td>\n",
              "      <td>-73.990485</td>\n",
              "      <td>40.756422</td>\n",
              "      <td>-73.971205</td>\n",
              "      <td>40.748192</td>\n",
              "      <td>1</td>\n",
              "      <td>2010</td>\n",
              "      <td>4</td>\n",
              "      <td>11</td>\n",
              "      <td>17</td>\n",
              "      <td>25</td>\n",
              "      <td>6</td>\n",
              "      <td>1</td>\n",
              "    </tr>\n",
              "    <tr>\n",
              "      <th>4</th>\n",
              "      <td>2010-04-16 22:19:01+00:00</td>\n",
              "      <td>19.7</td>\n",
              "      <td>1</td>\n",
              "      <td>-73.990976</td>\n",
              "      <td>40.734202</td>\n",
              "      <td>-73.905956</td>\n",
              "      <td>40.743115</td>\n",
              "      <td>1</td>\n",
              "      <td>2010</td>\n",
              "      <td>4</td>\n",
              "      <td>16</td>\n",
              "      <td>22</td>\n",
              "      <td>19</td>\n",
              "      <td>4</td>\n",
              "      <td>0</td>\n",
              "    </tr>\n",
              "    <tr>\n",
              "      <th>5</th>\n",
              "      <td>2010-04-22 04:39:47+00:00</td>\n",
              "      <td>8.1</td>\n",
              "      <td>0</td>\n",
              "      <td>-73.980481</td>\n",
              "      <td>40.748995</td>\n",
              "      <td>-73.983508</td>\n",
              "      <td>40.766459</td>\n",
              "      <td>1</td>\n",
              "      <td>2010</td>\n",
              "      <td>4</td>\n",
              "      <td>22</td>\n",
              "      <td>4</td>\n",
              "      <td>39</td>\n",
              "      <td>3</td>\n",
              "      <td>0</td>\n",
              "    </tr>\n",
              "    <tr>\n",
              "      <th>6</th>\n",
              "      <td>2010-04-23 15:27:00+00:00</td>\n",
              "      <td>4.9</td>\n",
              "      <td>0</td>\n",
              "      <td>-73.959535</td>\n",
              "      <td>40.779582</td>\n",
              "      <td>-73.947185</td>\n",
              "      <td>40.780223</td>\n",
              "      <td>1</td>\n",
              "      <td>2010</td>\n",
              "      <td>4</td>\n",
              "      <td>23</td>\n",
              "      <td>15</td>\n",
              "      <td>27</td>\n",
              "      <td>4</td>\n",
              "      <td>0</td>\n",
              "    </tr>\n",
              "    <tr>\n",
              "      <th>7</th>\n",
              "      <td>2010-04-15 05:03:37+00:00</td>\n",
              "      <td>4.9</td>\n",
              "      <td>0</td>\n",
              "      <td>-74.002601</td>\n",
              "      <td>40.739419</td>\n",
              "      <td>-73.997912</td>\n",
              "      <td>40.730292</td>\n",
              "      <td>1</td>\n",
              "      <td>2010</td>\n",
              "      <td>4</td>\n",
              "      <td>15</td>\n",
              "      <td>5</td>\n",
              "      <td>3</td>\n",
              "      <td>3</td>\n",
              "      <td>0</td>\n",
              "    </tr>\n",
              "    <tr>\n",
              "      <th>8</th>\n",
              "      <td>2010-04-20 04:58:00+00:00</td>\n",
              "      <td>2.9</td>\n",
              "      <td>0</td>\n",
              "      <td>-74.014005</td>\n",
              "      <td>40.704058</td>\n",
              "      <td>-74.013202</td>\n",
              "      <td>40.702877</td>\n",
              "      <td>1</td>\n",
              "      <td>2010</td>\n",
              "      <td>4</td>\n",
              "      <td>20</td>\n",
              "      <td>4</td>\n",
              "      <td>58</td>\n",
              "      <td>1</td>\n",
              "      <td>0</td>\n",
              "    </tr>\n",
              "    <tr>\n",
              "      <th>9</th>\n",
              "      <td>2010-04-16 14:50:16+00:00</td>\n",
              "      <td>6.1</td>\n",
              "      <td>0</td>\n",
              "      <td>-73.977689</td>\n",
              "      <td>40.784175</td>\n",
              "      <td>-73.988639</td>\n",
              "      <td>40.778669</td>\n",
              "      <td>1</td>\n",
              "      <td>2010</td>\n",
              "      <td>4</td>\n",
              "      <td>16</td>\n",
              "      <td>14</td>\n",
              "      <td>50</td>\n",
              "      <td>4</td>\n",
              "      <td>0</td>\n",
              "    </tr>\n",
              "  </tbody>\n",
              "</table>\n",
              "</div>"
            ],
            "text/plain": [
              "            pickup_datetime  fare_amount  fare_class  pickup_longitude  \\\n",
              "0 2010-04-19 04:17:56+00:00          6.5           0        -73.992365   \n",
              "1 2010-04-17 11:43:53+00:00          6.9           0        -73.990078   \n",
              "2 2010-04-17 07:23:26+00:00         10.1           1        -73.994149   \n",
              "3 2010-04-11 17:25:03+00:00          8.9           0        -73.990485   \n",
              "4 2010-04-16 22:19:01+00:00         19.7           1        -73.990976   \n",
              "5 2010-04-22 04:39:47+00:00          8.1           0        -73.980481   \n",
              "6 2010-04-23 15:27:00+00:00          4.9           0        -73.959535   \n",
              "7 2010-04-15 05:03:37+00:00          4.9           0        -74.002601   \n",
              "8 2010-04-20 04:58:00+00:00          2.9           0        -74.014005   \n",
              "9 2010-04-16 14:50:16+00:00          6.1           0        -73.977689   \n",
              "\n",
              "   pickup_latitude  dropoff_longitude  dropoff_latitude  passenger_count  \\\n",
              "0        40.730521         -73.975499         40.744746                1   \n",
              "1        40.740558         -73.974232         40.744114                1   \n",
              "2        40.751118         -73.960064         40.766235                2   \n",
              "3        40.756422         -73.971205         40.748192                1   \n",
              "4        40.734202         -73.905956         40.743115                1   \n",
              "5        40.748995         -73.983508         40.766459                1   \n",
              "6        40.779582         -73.947185         40.780223                1   \n",
              "7        40.739419         -73.997912         40.730292                1   \n",
              "8        40.704058         -74.013202         40.702877                1   \n",
              "9        40.784175         -73.988639         40.778669                1   \n",
              "\n",
              "   year  month  day  hour  minute  day_of_week  weekend  \n",
              "0  2010      4   19     4      17            0        0  \n",
              "1  2010      4   17    11      43            5        0  \n",
              "2  2010      4   17     7      23            5        0  \n",
              "3  2010      4   11    17      25            6        1  \n",
              "4  2010      4   16    22      19            4        0  \n",
              "5  2010      4   22     4      39            3        0  \n",
              "6  2010      4   23    15      27            4        0  \n",
              "7  2010      4   15     5       3            3        0  \n",
              "8  2010      4   20     4      58            1        0  \n",
              "9  2010      4   16    14      50            4        0  "
            ]
          },
          "metadata": {
            "tags": []
          },
          "execution_count": 50
        }
      ]
    },
    {
      "cell_type": "code",
      "metadata": {
        "id": "RwnpDTlLEx59",
        "colab_type": "code",
        "colab": {}
      },
      "source": [
        "# create feature of AM & PM\n",
        "df['time_AM'] = np.where(df['hour']<12,0,1)"
      ],
      "execution_count": 51,
      "outputs": []
    },
    {
      "cell_type": "code",
      "metadata": {
        "id": "W1GgXl99q2z5",
        "colab_type": "code",
        "colab": {}
      },
      "source": [
        "# drop 'pickup_datetime'\n",
        "df.drop(['pickup_datetime'], axis=1, inplace=True)"
      ],
      "execution_count": 52,
      "outputs": []
    },
    {
      "cell_type": "code",
      "metadata": {
        "id": "DZ2HPDYKqsjt",
        "colab_type": "code",
        "colab": {
          "base_uri": "https://localhost:8080/",
          "height": 156
        },
        "outputId": "253ad267-142e-4829-e620-4a5ef3115954"
      },
      "source": [
        "# preview dataset\n",
        "df.head(3)"
      ],
      "execution_count": 53,
      "outputs": [
        {
          "output_type": "execute_result",
          "data": {
            "text/html": [
              "<div>\n",
              "<style scoped>\n",
              "    .dataframe tbody tr th:only-of-type {\n",
              "        vertical-align: middle;\n",
              "    }\n",
              "\n",
              "    .dataframe tbody tr th {\n",
              "        vertical-align: top;\n",
              "    }\n",
              "\n",
              "    .dataframe thead th {\n",
              "        text-align: right;\n",
              "    }\n",
              "</style>\n",
              "<table border=\"1\" class=\"dataframe\">\n",
              "  <thead>\n",
              "    <tr style=\"text-align: right;\">\n",
              "      <th></th>\n",
              "      <th>fare_amount</th>\n",
              "      <th>fare_class</th>\n",
              "      <th>pickup_longitude</th>\n",
              "      <th>pickup_latitude</th>\n",
              "      <th>dropoff_longitude</th>\n",
              "      <th>dropoff_latitude</th>\n",
              "      <th>passenger_count</th>\n",
              "      <th>year</th>\n",
              "      <th>month</th>\n",
              "      <th>day</th>\n",
              "      <th>hour</th>\n",
              "      <th>minute</th>\n",
              "      <th>day_of_week</th>\n",
              "      <th>weekend</th>\n",
              "      <th>time_AM</th>\n",
              "    </tr>\n",
              "  </thead>\n",
              "  <tbody>\n",
              "    <tr>\n",
              "      <th>0</th>\n",
              "      <td>6.5</td>\n",
              "      <td>0</td>\n",
              "      <td>-73.992365</td>\n",
              "      <td>40.730521</td>\n",
              "      <td>-73.975499</td>\n",
              "      <td>40.744746</td>\n",
              "      <td>1</td>\n",
              "      <td>2010</td>\n",
              "      <td>4</td>\n",
              "      <td>19</td>\n",
              "      <td>4</td>\n",
              "      <td>17</td>\n",
              "      <td>0</td>\n",
              "      <td>0</td>\n",
              "      <td>0</td>\n",
              "    </tr>\n",
              "    <tr>\n",
              "      <th>1</th>\n",
              "      <td>6.9</td>\n",
              "      <td>0</td>\n",
              "      <td>-73.990078</td>\n",
              "      <td>40.740558</td>\n",
              "      <td>-73.974232</td>\n",
              "      <td>40.744114</td>\n",
              "      <td>1</td>\n",
              "      <td>2010</td>\n",
              "      <td>4</td>\n",
              "      <td>17</td>\n",
              "      <td>11</td>\n",
              "      <td>43</td>\n",
              "      <td>5</td>\n",
              "      <td>0</td>\n",
              "      <td>0</td>\n",
              "    </tr>\n",
              "    <tr>\n",
              "      <th>2</th>\n",
              "      <td>10.1</td>\n",
              "      <td>1</td>\n",
              "      <td>-73.994149</td>\n",
              "      <td>40.751118</td>\n",
              "      <td>-73.960064</td>\n",
              "      <td>40.766235</td>\n",
              "      <td>2</td>\n",
              "      <td>2010</td>\n",
              "      <td>4</td>\n",
              "      <td>17</td>\n",
              "      <td>7</td>\n",
              "      <td>23</td>\n",
              "      <td>5</td>\n",
              "      <td>0</td>\n",
              "      <td>0</td>\n",
              "    </tr>\n",
              "  </tbody>\n",
              "</table>\n",
              "</div>"
            ],
            "text/plain": [
              "   fare_amount  fare_class  pickup_longitude  pickup_latitude  \\\n",
              "0          6.5           0        -73.992365        40.730521   \n",
              "1          6.9           0        -73.990078        40.740558   \n",
              "2         10.1           1        -73.994149        40.751118   \n",
              "\n",
              "   dropoff_longitude  dropoff_latitude  passenger_count  year  month  day  \\\n",
              "0         -73.975499         40.744746                1  2010      4   19   \n",
              "1         -73.974232         40.744114                1  2010      4   17   \n",
              "2         -73.960064         40.766235                2  2010      4   17   \n",
              "\n",
              "   hour  minute  day_of_week  weekend  time_AM  \n",
              "0     4      17            0        0        0  \n",
              "1    11      43            5        0        0  \n",
              "2     7      23            5        0        0  "
            ]
          },
          "metadata": {
            "tags": []
          },
          "execution_count": 53
        }
      ]
    },
    {
      "cell_type": "code",
      "metadata": {
        "id": "imZVhgewEleY",
        "colab_type": "code",
        "colab": {
          "base_uri": "https://localhost:8080/",
          "height": 34
        },
        "outputId": "077e60a9-cad8-43c5-adb2-429af07ad4c0"
      },
      "source": [
        "!pip install haversine"
      ],
      "execution_count": 54,
      "outputs": [
        {
          "output_type": "stream",
          "text": [
            "Requirement already satisfied: haversine in /usr/local/lib/python3.6/dist-packages (2.2.0)\n"
          ],
          "name": "stdout"
        }
      ]
    },
    {
      "cell_type": "code",
      "metadata": {
        "id": "v2FLNBT6H6QF",
        "colab_type": "code",
        "colab": {}
      },
      "source": [
        "from haversine import haversine, Unit\n",
        "\n",
        "total_distance = []\n",
        "for i in range(df.shape[0]):\n",
        "  loc1 = (df['pickup_longitude'][i], df['pickup_latitude'][i]) # (lat, lon)\n",
        "  loc2 = (df['dropoff_longitude'][i], df['dropoff_latitude'][i])\n",
        "  total_distance.append(haversine(loc1, loc2))"
      ],
      "execution_count": 55,
      "outputs": []
    },
    {
      "cell_type": "code",
      "metadata": {
        "id": "8c_eODyGItHn",
        "colab_type": "code",
        "colab": {}
      },
      "source": [
        "df['total_distance'] = total_distance"
      ],
      "execution_count": 56,
      "outputs": []
    },
    {
      "cell_type": "code",
      "metadata": {
        "id": "1O9IjmRoIxlA",
        "colab_type": "code",
        "colab": {
          "base_uri": "https://localhost:8080/",
          "height": 363
        },
        "outputId": "8215a6d8-b763-47e9-86cf-5c59d34f7132"
      },
      "source": [
        "df.head(10)"
      ],
      "execution_count": 57,
      "outputs": [
        {
          "output_type": "execute_result",
          "data": {
            "text/html": [
              "<div>\n",
              "<style scoped>\n",
              "    .dataframe tbody tr th:only-of-type {\n",
              "        vertical-align: middle;\n",
              "    }\n",
              "\n",
              "    .dataframe tbody tr th {\n",
              "        vertical-align: top;\n",
              "    }\n",
              "\n",
              "    .dataframe thead th {\n",
              "        text-align: right;\n",
              "    }\n",
              "</style>\n",
              "<table border=\"1\" class=\"dataframe\">\n",
              "  <thead>\n",
              "    <tr style=\"text-align: right;\">\n",
              "      <th></th>\n",
              "      <th>fare_amount</th>\n",
              "      <th>fare_class</th>\n",
              "      <th>pickup_longitude</th>\n",
              "      <th>pickup_latitude</th>\n",
              "      <th>dropoff_longitude</th>\n",
              "      <th>dropoff_latitude</th>\n",
              "      <th>passenger_count</th>\n",
              "      <th>year</th>\n",
              "      <th>month</th>\n",
              "      <th>day</th>\n",
              "      <th>hour</th>\n",
              "      <th>minute</th>\n",
              "      <th>day_of_week</th>\n",
              "      <th>weekend</th>\n",
              "      <th>time_AM</th>\n",
              "      <th>total_distance</th>\n",
              "    </tr>\n",
              "  </thead>\n",
              "  <tbody>\n",
              "    <tr>\n",
              "      <th>0</th>\n",
              "      <td>6.5</td>\n",
              "      <td>0</td>\n",
              "      <td>-73.992365</td>\n",
              "      <td>40.730521</td>\n",
              "      <td>-73.975499</td>\n",
              "      <td>40.744746</td>\n",
              "      <td>1</td>\n",
              "      <td>2010</td>\n",
              "      <td>4</td>\n",
              "      <td>19</td>\n",
              "      <td>4</td>\n",
              "      <td>17</td>\n",
              "      <td>0</td>\n",
              "      <td>0</td>\n",
              "      <td>0</td>\n",
              "      <td>1.925525</td>\n",
              "    </tr>\n",
              "    <tr>\n",
              "      <th>1</th>\n",
              "      <td>6.9</td>\n",
              "      <td>0</td>\n",
              "      <td>-73.990078</td>\n",
              "      <td>40.740558</td>\n",
              "      <td>-73.974232</td>\n",
              "      <td>40.744114</td>\n",
              "      <td>1</td>\n",
              "      <td>2010</td>\n",
              "      <td>4</td>\n",
              "      <td>17</td>\n",
              "      <td>11</td>\n",
              "      <td>43</td>\n",
              "      <td>5</td>\n",
              "      <td>0</td>\n",
              "      <td>0</td>\n",
              "      <td>1.765372</td>\n",
              "    </tr>\n",
              "    <tr>\n",
              "      <th>2</th>\n",
              "      <td>10.1</td>\n",
              "      <td>1</td>\n",
              "      <td>-73.994149</td>\n",
              "      <td>40.751118</td>\n",
              "      <td>-73.960064</td>\n",
              "      <td>40.766235</td>\n",
              "      <td>2</td>\n",
              "      <td>2010</td>\n",
              "      <td>4</td>\n",
              "      <td>17</td>\n",
              "      <td>7</td>\n",
              "      <td>23</td>\n",
              "      <td>5</td>\n",
              "      <td>0</td>\n",
              "      <td>0</td>\n",
              "      <td>3.818378</td>\n",
              "    </tr>\n",
              "    <tr>\n",
              "      <th>3</th>\n",
              "      <td>8.9</td>\n",
              "      <td>0</td>\n",
              "      <td>-73.990485</td>\n",
              "      <td>40.756422</td>\n",
              "      <td>-73.971205</td>\n",
              "      <td>40.748192</td>\n",
              "      <td>1</td>\n",
              "      <td>2010</td>\n",
              "      <td>4</td>\n",
              "      <td>11</td>\n",
              "      <td>17</td>\n",
              "      <td>25</td>\n",
              "      <td>6</td>\n",
              "      <td>1</td>\n",
              "      <td>1</td>\n",
              "      <td>2.158664</td>\n",
              "    </tr>\n",
              "    <tr>\n",
              "      <th>4</th>\n",
              "      <td>19.7</td>\n",
              "      <td>1</td>\n",
              "      <td>-73.990976</td>\n",
              "      <td>40.734202</td>\n",
              "      <td>-73.905956</td>\n",
              "      <td>40.743115</td>\n",
              "      <td>1</td>\n",
              "      <td>2010</td>\n",
              "      <td>4</td>\n",
              "      <td>16</td>\n",
              "      <td>22</td>\n",
              "      <td>19</td>\n",
              "      <td>4</td>\n",
              "      <td>0</td>\n",
              "      <td>1</td>\n",
              "      <td>9.457777</td>\n",
              "    </tr>\n",
              "    <tr>\n",
              "      <th>5</th>\n",
              "      <td>8.1</td>\n",
              "      <td>0</td>\n",
              "      <td>-73.980481</td>\n",
              "      <td>40.748995</td>\n",
              "      <td>-73.983508</td>\n",
              "      <td>40.766459</td>\n",
              "      <td>1</td>\n",
              "      <td>2010</td>\n",
              "      <td>4</td>\n",
              "      <td>22</td>\n",
              "      <td>4</td>\n",
              "      <td>39</td>\n",
              "      <td>3</td>\n",
              "      <td>0</td>\n",
              "      <td>0</td>\n",
              "      <td>0.632792</td>\n",
              "    </tr>\n",
              "    <tr>\n",
              "      <th>6</th>\n",
              "      <td>4.9</td>\n",
              "      <td>0</td>\n",
              "      <td>-73.959535</td>\n",
              "      <td>40.779582</td>\n",
              "      <td>-73.947185</td>\n",
              "      <td>40.780223</td>\n",
              "      <td>1</td>\n",
              "      <td>2010</td>\n",
              "      <td>4</td>\n",
              "      <td>23</td>\n",
              "      <td>15</td>\n",
              "      <td>27</td>\n",
              "      <td>4</td>\n",
              "      <td>0</td>\n",
              "      <td>1</td>\n",
              "      <td>1.373401</td>\n",
              "    </tr>\n",
              "    <tr>\n",
              "      <th>7</th>\n",
              "      <td>4.9</td>\n",
              "      <td>0</td>\n",
              "      <td>-74.002601</td>\n",
              "      <td>40.739419</td>\n",
              "      <td>-73.997912</td>\n",
              "      <td>40.730292</td>\n",
              "      <td>1</td>\n",
              "      <td>2010</td>\n",
              "      <td>4</td>\n",
              "      <td>15</td>\n",
              "      <td>5</td>\n",
              "      <td>3</td>\n",
              "      <td>3</td>\n",
              "      <td>0</td>\n",
              "      <td>0</td>\n",
              "      <td>0.591695</td>\n",
              "    </tr>\n",
              "    <tr>\n",
              "      <th>8</th>\n",
              "      <td>2.9</td>\n",
              "      <td>0</td>\n",
              "      <td>-74.014005</td>\n",
              "      <td>40.704058</td>\n",
              "      <td>-74.013202</td>\n",
              "      <td>40.702877</td>\n",
              "      <td>1</td>\n",
              "      <td>2010</td>\n",
              "      <td>4</td>\n",
              "      <td>20</td>\n",
              "      <td>4</td>\n",
              "      <td>58</td>\n",
              "      <td>1</td>\n",
              "      <td>0</td>\n",
              "      <td>0</td>\n",
              "      <td>0.096336</td>\n",
              "    </tr>\n",
              "    <tr>\n",
              "      <th>9</th>\n",
              "      <td>6.1</td>\n",
              "      <td>0</td>\n",
              "      <td>-73.977689</td>\n",
              "      <td>40.784175</td>\n",
              "      <td>-73.988639</td>\n",
              "      <td>40.778669</td>\n",
              "      <td>1</td>\n",
              "      <td>2010</td>\n",
              "      <td>4</td>\n",
              "      <td>16</td>\n",
              "      <td>14</td>\n",
              "      <td>50</td>\n",
              "      <td>4</td>\n",
              "      <td>0</td>\n",
              "      <td>1</td>\n",
              "      <td>1.229249</td>\n",
              "    </tr>\n",
              "  </tbody>\n",
              "</table>\n",
              "</div>"
            ],
            "text/plain": [
              "   fare_amount  fare_class  pickup_longitude  pickup_latitude  \\\n",
              "0          6.5           0        -73.992365        40.730521   \n",
              "1          6.9           0        -73.990078        40.740558   \n",
              "2         10.1           1        -73.994149        40.751118   \n",
              "3          8.9           0        -73.990485        40.756422   \n",
              "4         19.7           1        -73.990976        40.734202   \n",
              "5          8.1           0        -73.980481        40.748995   \n",
              "6          4.9           0        -73.959535        40.779582   \n",
              "7          4.9           0        -74.002601        40.739419   \n",
              "8          2.9           0        -74.014005        40.704058   \n",
              "9          6.1           0        -73.977689        40.784175   \n",
              "\n",
              "   dropoff_longitude  dropoff_latitude  passenger_count  year  month  day  \\\n",
              "0         -73.975499         40.744746                1  2010      4   19   \n",
              "1         -73.974232         40.744114                1  2010      4   17   \n",
              "2         -73.960064         40.766235                2  2010      4   17   \n",
              "3         -73.971205         40.748192                1  2010      4   11   \n",
              "4         -73.905956         40.743115                1  2010      4   16   \n",
              "5         -73.983508         40.766459                1  2010      4   22   \n",
              "6         -73.947185         40.780223                1  2010      4   23   \n",
              "7         -73.997912         40.730292                1  2010      4   15   \n",
              "8         -74.013202         40.702877                1  2010      4   20   \n",
              "9         -73.988639         40.778669                1  2010      4   16   \n",
              "\n",
              "   hour  minute  day_of_week  weekend  time_AM  total_distance  \n",
              "0     4      17            0        0        0        1.925525  \n",
              "1    11      43            5        0        0        1.765372  \n",
              "2     7      23            5        0        0        3.818378  \n",
              "3    17      25            6        1        1        2.158664  \n",
              "4    22      19            4        0        1        9.457777  \n",
              "5     4      39            3        0        0        0.632792  \n",
              "6    15      27            4        0        1        1.373401  \n",
              "7     5       3            3        0        0        0.591695  \n",
              "8     4      58            1        0        0        0.096336  \n",
              "9    14      50            4        0        1        1.229249  "
            ]
          },
          "metadata": {
            "tags": []
          },
          "execution_count": 57
        }
      ]
    },
    {
      "cell_type": "code",
      "metadata": {
        "id": "gm7MbAvcE3ju",
        "colab_type": "code",
        "colab": {}
      },
      "source": [
        "df.drop(['pickup_longitude','pickup_latitude','dropoff_longitude','dropoff_latitude'], axis=1, inplace=True)"
      ],
      "execution_count": 58,
      "outputs": []
    },
    {
      "cell_type": "code",
      "metadata": {
        "id": "ms0v95psM5Jz",
        "colab_type": "code",
        "colab": {
          "base_uri": "https://localhost:8080/",
          "height": 195
        },
        "outputId": "96d5f7d8-024d-4d79-a22e-6073723eed8f"
      },
      "source": [
        "df.head()"
      ],
      "execution_count": 59,
      "outputs": [
        {
          "output_type": "execute_result",
          "data": {
            "text/html": [
              "<div>\n",
              "<style scoped>\n",
              "    .dataframe tbody tr th:only-of-type {\n",
              "        vertical-align: middle;\n",
              "    }\n",
              "\n",
              "    .dataframe tbody tr th {\n",
              "        vertical-align: top;\n",
              "    }\n",
              "\n",
              "    .dataframe thead th {\n",
              "        text-align: right;\n",
              "    }\n",
              "</style>\n",
              "<table border=\"1\" class=\"dataframe\">\n",
              "  <thead>\n",
              "    <tr style=\"text-align: right;\">\n",
              "      <th></th>\n",
              "      <th>fare_amount</th>\n",
              "      <th>fare_class</th>\n",
              "      <th>passenger_count</th>\n",
              "      <th>year</th>\n",
              "      <th>month</th>\n",
              "      <th>day</th>\n",
              "      <th>hour</th>\n",
              "      <th>minute</th>\n",
              "      <th>day_of_week</th>\n",
              "      <th>weekend</th>\n",
              "      <th>time_AM</th>\n",
              "      <th>total_distance</th>\n",
              "    </tr>\n",
              "  </thead>\n",
              "  <tbody>\n",
              "    <tr>\n",
              "      <th>0</th>\n",
              "      <td>6.5</td>\n",
              "      <td>0</td>\n",
              "      <td>1</td>\n",
              "      <td>2010</td>\n",
              "      <td>4</td>\n",
              "      <td>19</td>\n",
              "      <td>4</td>\n",
              "      <td>17</td>\n",
              "      <td>0</td>\n",
              "      <td>0</td>\n",
              "      <td>0</td>\n",
              "      <td>1.925525</td>\n",
              "    </tr>\n",
              "    <tr>\n",
              "      <th>1</th>\n",
              "      <td>6.9</td>\n",
              "      <td>0</td>\n",
              "      <td>1</td>\n",
              "      <td>2010</td>\n",
              "      <td>4</td>\n",
              "      <td>17</td>\n",
              "      <td>11</td>\n",
              "      <td>43</td>\n",
              "      <td>5</td>\n",
              "      <td>0</td>\n",
              "      <td>0</td>\n",
              "      <td>1.765372</td>\n",
              "    </tr>\n",
              "    <tr>\n",
              "      <th>2</th>\n",
              "      <td>10.1</td>\n",
              "      <td>1</td>\n",
              "      <td>2</td>\n",
              "      <td>2010</td>\n",
              "      <td>4</td>\n",
              "      <td>17</td>\n",
              "      <td>7</td>\n",
              "      <td>23</td>\n",
              "      <td>5</td>\n",
              "      <td>0</td>\n",
              "      <td>0</td>\n",
              "      <td>3.818378</td>\n",
              "    </tr>\n",
              "    <tr>\n",
              "      <th>3</th>\n",
              "      <td>8.9</td>\n",
              "      <td>0</td>\n",
              "      <td>1</td>\n",
              "      <td>2010</td>\n",
              "      <td>4</td>\n",
              "      <td>11</td>\n",
              "      <td>17</td>\n",
              "      <td>25</td>\n",
              "      <td>6</td>\n",
              "      <td>1</td>\n",
              "      <td>1</td>\n",
              "      <td>2.158664</td>\n",
              "    </tr>\n",
              "    <tr>\n",
              "      <th>4</th>\n",
              "      <td>19.7</td>\n",
              "      <td>1</td>\n",
              "      <td>1</td>\n",
              "      <td>2010</td>\n",
              "      <td>4</td>\n",
              "      <td>16</td>\n",
              "      <td>22</td>\n",
              "      <td>19</td>\n",
              "      <td>4</td>\n",
              "      <td>0</td>\n",
              "      <td>1</td>\n",
              "      <td>9.457777</td>\n",
              "    </tr>\n",
              "  </tbody>\n",
              "</table>\n",
              "</div>"
            ],
            "text/plain": [
              "   fare_amount  fare_class  passenger_count  year  month  day  hour  minute  \\\n",
              "0          6.5           0                1  2010      4   19     4      17   \n",
              "1          6.9           0                1  2010      4   17    11      43   \n",
              "2         10.1           1                2  2010      4   17     7      23   \n",
              "3          8.9           0                1  2010      4   11    17      25   \n",
              "4         19.7           1                1  2010      4   16    22      19   \n",
              "\n",
              "   day_of_week  weekend  time_AM  total_distance  \n",
              "0            0        0        0        1.925525  \n",
              "1            5        0        0        1.765372  \n",
              "2            5        0        0        3.818378  \n",
              "3            6        1        1        2.158664  \n",
              "4            4        0        1        9.457777  "
            ]
          },
          "metadata": {
            "tags": []
          },
          "execution_count": 59
        }
      ]
    },
    {
      "cell_type": "code",
      "metadata": {
        "id": "i6ny68xfvaKw",
        "colab_type": "code",
        "colab": {
          "base_uri": "https://localhost:8080/",
          "height": 50
        },
        "outputId": "5eca0025-ee90-4236-afc8-6628e6a25c02"
      },
      "source": [
        "# size of dataset\n",
        "print(\"# Rows:\", df.shape[0])\n",
        "print(\"# Cols:\", df.shape[1])"
      ],
      "execution_count": 66,
      "outputs": [
        {
          "output_type": "stream",
          "text": [
            "# Rows: 120000\n",
            "# Cols: 12\n"
          ],
          "name": "stdout"
        }
      ]
    },
    {
      "cell_type": "markdown",
      "metadata": {
        "id": "rgbG9AZPe2wq",
        "colab_type": "text"
      },
      "source": [
        "# Train Test Split"
      ]
    },
    {
      "cell_type": "code",
      "metadata": {
        "id": "8sCZxldvuKmw",
        "colab_type": "code",
        "colab": {}
      },
      "source": [
        "# split dependent and independent features\n",
        "X = df.drop(['fare_amount'], axis=1)  # dependent features\n",
        "y = df['fare_amount']  # independent features"
      ],
      "execution_count": 61,
      "outputs": []
    },
    {
      "cell_type": "code",
      "metadata": {
        "id": "FzVX0BAne5l5",
        "colab_type": "code",
        "colab": {}
      },
      "source": [
        "# train_test_split\n",
        "from sklearn.model_selection import train_test_split\n",
        "X_train, X_test, y_train, y_test = train_test_split(X, y, train_size = 0.7, test_size = 0.3, random_state = 0)"
      ],
      "execution_count": 62,
      "outputs": []
    },
    {
      "cell_type": "markdown",
      "metadata": {
        "id": "gZN2B9eTesz9",
        "colab_type": "text"
      },
      "source": [
        "## Important Features\n",
        "Retrieve the most important features for modelling with Extra Trees Regressor"
      ]
    },
    {
      "cell_type": "code",
      "metadata": {
        "id": "zUPJVbyCtW79",
        "colab_type": "code",
        "colab": {
          "base_uri": "https://localhost:8080/",
          "height": 134
        },
        "outputId": "5a95621b-0f5b-41b5-92b0-d21e32444b11"
      },
      "source": [
        "# feature selection\n",
        "from sklearn.ensemble import ExtraTreesRegressor\n",
        "model = ExtraTreesRegressor()\n",
        "model.fit(X,y)"
      ],
      "execution_count": 63,
      "outputs": [
        {
          "output_type": "execute_result",
          "data": {
            "text/plain": [
              "ExtraTreesRegressor(bootstrap=False, ccp_alpha=0.0, criterion='mse',\n",
              "                    max_depth=None, max_features='auto', max_leaf_nodes=None,\n",
              "                    max_samples=None, min_impurity_decrease=0.0,\n",
              "                    min_impurity_split=None, min_samples_leaf=1,\n",
              "                    min_samples_split=2, min_weight_fraction_leaf=0.0,\n",
              "                    n_estimators=100, n_jobs=None, oob_score=False,\n",
              "                    random_state=None, verbose=0, warm_start=False)"
            ]
          },
          "metadata": {
            "tags": []
          },
          "execution_count": 63
        }
      ]
    },
    {
      "cell_type": "code",
      "metadata": {
        "id": "S0PKY1NAtsWi",
        "colab_type": "code",
        "colab": {
          "base_uri": "https://localhost:8080/",
          "height": 265
        },
        "outputId": "af80b4b8-2174-4695-fb88-6e94d4d8120a"
      },
      "source": [
        "# plot features based on their importance\n",
        "important_features = pd.Series(model.feature_importances_, index=X.columns)\n",
        "important_features.nlargest(7).plot(kind='barh')  # 7 most important features\n",
        "plt.show()"
      ],
      "execution_count": 73,
      "outputs": [
        {
          "output_type": "display_data",
          "data": {
            "image/png": "[encoded data removed]",
            "text/plain": [
              "<Figure size 432x288 with 1 Axes>"
            ]
          },
          "metadata": {
            "tags": []
          }
        }
      ]
    },
    {
      "cell_type": "markdown",
      "metadata": {
        "id": "wN2h91AqNFvR",
        "colab_type": "text"
      },
      "source": [
        "# Modelling"
      ]
    },
    {
      "cell_type": "code",
      "metadata": {
        "id": "H6LiU-z_hpjy",
        "colab_type": "code",
        "colab": {
          "base_uri": "https://localhost:8080/",
          "height": 151
        },
        "outputId": "60ba31dd-50f8-4ff5-bc72-7cb240c941ae"
      },
      "source": [
        "# XGBoost Regressor\n",
        "import xgboost\n",
        "reg = xgboost.XGBRegressor()  # initialize model\n",
        "reg.fit(X_train,y_train)  # model training"
      ],
      "execution_count": 78,
      "outputs": [
        {
          "output_type": "stream",
          "text": [
            "[15:49:27] WARNING: /workspace/src/objective/regression_obj.cu:152: reg:linear is now deprecated in favor of reg:squarederror.\n"
          ],
          "name": "stdout"
        },
        {
          "output_type": "execute_result",
          "data": {
            "text/plain": [
              "XGBRegressor(base_score=0.5, booster='gbtree', colsample_bylevel=1,\n",
              "             colsample_bynode=1, colsample_bytree=1, gamma=0,\n",
              "             importance_type='gain', learning_rate=0.1, max_delta_step=0,\n",
              "             max_depth=3, min_child_weight=1, missing=None, n_estimators=100,\n",
              "             n_jobs=1, nthread=None, objective='reg:linear', random_state=0,\n",
              "             reg_alpha=0, reg_lambda=1, scale_pos_weight=1, seed=None,\n",
              "             silent=None, subsample=1, verbosity=1)"
            ]
          },
          "metadata": {
            "tags": []
          },
          "execution_count": 78
        }
      ]
    },
    {
      "cell_type": "code",
      "metadata": {
        "id": "NAWPyMyTv6dg",
        "colab_type": "code",
        "colab": {
          "base_uri": "https://localhost:8080/",
          "height": 297
        },
        "outputId": "a79da91f-b8b3-482e-f2f2-052be2adcc80"
      },
      "source": [
        "# predictions\n",
        "preds = reg.predict(X_test) # make predictions\n",
        "sns.distplot(y_test - preds)  # error distribution plot"
      ],
      "execution_count": 80,
      "outputs": [
        {
          "output_type": "execute_result",
          "data": {
            "text/plain": [
              "<matplotlib.axes._subplots.AxesSubplot at 0x7fa5d48364e0>"
            ]
          },
          "metadata": {
            "tags": []
          },
          "execution_count": 80
        },
        {
          "output_type": "display_data",
          "data": {
            "image/png": "[encoded data removed]",
            "text/plain": [
              "<Figure size 432x288 with 1 Axes>"
            ]
          },
          "metadata": {
            "tags": []
          }
        }
      ]
    },
    {
      "cell_type": "code",
      "metadata": {
        "id": "mmMxnEZU4FFh",
        "colab_type": "code",
        "colab": {}
      },
      "source": [
        "plt.scatter(y_test, preds)"
      ],
      "execution_count": null,
      "outputs": []
    },
    {
      "cell_type": "code",
      "metadata": {
        "id": "OxLzJ6CDxOYV",
        "colab_type": "code",
        "colab": {
          "base_uri": "https://localhost:8080/",
          "height": 84
        },
        "outputId": "bfa4c228-bf6f-4d80-ab5a-6b411a416e80"
      },
      "source": [
        "# model evauluation\n",
        "from sklearn import metrics\n",
        "print(\"R-square:\", np.sqrt(metrics.r2_score(y_test, preds)))\n",
        "print(\"MAE:\", metrics.mean_absolute_error(y_test, preds))\n",
        "print(\"MSE:\", metrics.mean_squared_error(y_test,preds))\n",
        "print(\"RMSE:\", np.sqrt(metrics.mean_squared_error(y_test, preds)))"
      ],
      "execution_count": 82,
      "outputs": [
        {
          "output_type": "stream",
          "text": [
            "R-square: 0.9145916756794913\n",
            "MAE: 1.8078180181834433\n",
            "MSE: 9.156011874361917\n",
            "RMSE: 3.0258902614539607\n"
          ],
          "name": "stdout"
        }
      ]
    },
    {
      "cell_type": "code",
      "metadata": {
        "id": "PE81NqrHxOmA",
        "colab_type": "code",
        "colab": {}
      },
      "source": [
        "# hyper parameter tuning\n",
        "from sklearn.model_selection import RandomizedSearchCV"
      ],
      "execution_count": 83,
      "outputs": []
    },
    {
      "cell_type": "code",
      "metadata": {
        "id": "S6fmInoSxOfX",
        "colab_type": "code",
        "colab": {
          "base_uri": "https://localhost:8080/",
          "height": 34
        },
        "outputId": "07c821c2-ef61-45c8-fd6b-7b3220c72914"
      },
      "source": [
        "\n",
        "print(n_estimators)"
      ],
      "execution_count": 84,
      "outputs": [
        {
          "output_type": "stream",
          "text": [
            "[100, 200, 300, 400, 500, 600, 700, 800, 900, 1000, 1100, 1200]\n"
          ],
          "name": "stdout"
        }
      ]
    },
    {
      "cell_type": "code",
      "metadata": {
        "id": "wHvznsMo1Zc1",
        "colab_type": "code",
        "colab": {
          "base_uri": "https://localhost:8080/",
          "height": 54
        },
        "outputId": "5f685c80-640e-40cf-cdde-3bab74368163"
      },
      "source": [
        "# randomized search cv\n",
        "\n",
        "# number of trees\n",
        "n_estimators = [int(x) for x in np.linspace(start=100, stop=1200, num=12)]\n",
        "# learning rate parameters\n",
        "learning_rate = ['0.05','0.1','0.2','0.3','0.5','0.6']\n",
        "# max number of levels in tree\n",
        "max_depth = [int(x) for x in np.linspace(5,30,num=6)]\n",
        "# subsample parameter values\n",
        "subsample=[0.7, 0.6, 0.8]\n",
        "# minimum child weight parameters\n",
        "min_child_weight = [3,4,5,6,7]\n",
        "# create random grid\n",
        "param_distributions = {\n",
        "    'n_estimators':n_estimators,\n",
        "    'learning_rate':learning_rate,\n",
        "    'max_depth':max_depth,\n",
        "    'subsample':subsample,\n",
        "    'min_child_weight':min_child_weight\n",
        "}\n",
        "# preview random grid\n",
        "print(param_distributions)"
      ],
      "execution_count": 86,
      "outputs": [
        {
          "output_type": "stream",
          "text": [
            "{'n_estimators': [100, 200, 300, 400, 500, 600, 700, 800, 900, 1000, 1100, 1200], 'learning_rate': ['0.05', '0.1', '0.2', '0.3', '0.5', '0.6'], 'max_depth': [5, 10, 15, 20, 25, 30], 'subsample': [0.7, 0.6, 0.8], 'min_child_weight': [3, 4, 5, 6, 7]}\n"
          ],
          "name": "stdout"
        }
      ]
    },
    {
      "cell_type": "code",
      "metadata": {
        "id": "EVQRLdkX1W0Z",
        "colab_type": "code",
        "colab": {}
      },
      "source": [
        "# run randomized search cv to find best parameters for modelling\n",
        "\n",
        "# create base model\n",
        "reg = xgboost.XGBRegressor()\n",
        "# search across all combinations with 5 fold cross validations\n",
        "xgb_random = RandomizedSearchCV(\n",
        "    estimator=reg, \n",
        "    param_distributions=param_distributions, \n",
        "    scoring='neg_mean_squared_error', \n",
        "    n_iter=5, \n",
        "    cv=5, \n",
        "    verbose=2, \n",
        "    random_state=42, \n",
        "    n_jobs=-1)"
      ],
      "execution_count": 87,
      "outputs": []
    },
    {
      "cell_type": "code",
      "metadata": {
        "id": "W4bfF45Z2x8v",
        "colab_type": "code",
        "colab": {
          "base_uri": "https://localhost:8080/",
          "height": 487
        },
        "outputId": "5fc13155-6e61-4eb9-981b-c0342a78952c"
      },
      "source": [
        "# training with tuned model\n",
        "xgb_random.fit(X_train, y_train)"
      ],
      "execution_count": 88,
      "outputs": [
        {
          "output_type": "stream",
          "text": [
            "Fitting 5 folds for each of 5 candidates, totalling 25 fits\n"
          ],
          "name": "stdout"
        },
        {
          "output_type": "stream",
          "text": [
            "[Parallel(n_jobs=-1)]: Using backend LokyBackend with 2 concurrent workers.\n",
            "[Parallel(n_jobs=-1)]: Done  25 out of  25 | elapsed: 66.0min finished\n"
          ],
          "name": "stderr"
        },
        {
          "output_type": "stream",
          "text": [
            "[17:25:05] WARNING: /workspace/src/objective/regression_obj.cu:152: reg:linear is now deprecated in favor of reg:squarederror.\n"
          ],
          "name": "stdout"
        },
        {
          "output_type": "execute_result",
          "data": {
            "text/plain": [
              "RandomizedSearchCV(cv=5, error_score=nan,\n",
              "                   estimator=XGBRegressor(base_score=0.5, booster='gbtree',\n",
              "                                          colsample_bylevel=1,\n",
              "                                          colsample_bynode=1,\n",
              "                                          colsample_bytree=1, gamma=0,\n",
              "                                          importance_type='gain',\n",
              "                                          learning_rate=0.1, max_delta_step=0,\n",
              "                                          max_depth=3, min_child_weight=1,\n",
              "                                          missing=None, n_estimators=100,\n",
              "                                          n_jobs=1, nthread=None,\n",
              "                                          objective='reg:linear',\n",
              "                                          random_state=0, reg_alpha=...\n",
              "                   param_distributions={'learning_rate': ['0.05', '0.1', '0.2',\n",
              "                                                          '0.3', '0.5', '0.6'],\n",
              "                                        'max_depth': [5, 10, 15, 20, 25, 30],\n",
              "                                        'min_child_weight': [3, 4, 5, 6, 7],\n",
              "                                        'n_estimators': [100, 200, 300, 400,\n",
              "                                                         500, 600, 700, 800,\n",
              "                                                         900, 1000, 1100,\n",
              "                                                         1200],\n",
              "                                        'subsample': [0.7, 0.6, 0.8]},\n",
              "                   pre_dispatch='2*n_jobs', random_state=42, refit=True,\n",
              "                   return_train_score=False, scoring='neg_mean_squared_error',\n",
              "                   verbose=2)"
            ]
          },
          "metadata": {
            "tags": []
          },
          "execution_count": 88
        }
      ]
    },
    {
      "cell_type": "code",
      "metadata": {
        "id": "hUORhk3U2yTH",
        "colab_type": "code",
        "colab": {
          "base_uri": "https://localhost:8080/",
          "height": 101
        },
        "outputId": "c464af06-7e99-4e82-ded3-b3e1d899b2b7"
      },
      "source": [
        "# find best parameters\n",
        "xgb_random.best_params_"
      ],
      "execution_count": 89,
      "outputs": [
        {
          "output_type": "execute_result",
          "data": {
            "text/plain": [
              "{'learning_rate': '0.05',\n",
              " 'max_depth': 25,\n",
              " 'min_child_weight': 6,\n",
              " 'n_estimators': 1100,\n",
              " 'subsample': 0.8}"
            ]
          },
          "metadata": {
            "tags": []
          },
          "execution_count": 89
        }
      ]
    },
    {
      "cell_type": "code",
      "metadata": {
        "id": "_9tFaBt-2ydw",
        "colab_type": "code",
        "colab": {}
      },
      "source": [
        "# predictions\n",
        "preds = xgb_random.predict(X_test)\n",
        "# error distribution plot\n",
        "sns.distplot(y_test-preds)"
      ],
      "execution_count": null,
      "outputs": []
    },
    {
      "cell_type": "code",
      "metadata": {
        "id": "jzFtpjNp2yJL",
        "colab_type": "code",
        "colab": {}
      },
      "source": [
        "# scatter plot\n",
        "plt.scatter(y_test, preds)"
      ],
      "execution_count": null,
      "outputs": []
    },
    {
      "cell_type": "code",
      "metadata": {
        "id": "XRrbSCRt2xyB",
        "colab_type": "code",
        "colab": {}
      },
      "source": [
        "# model evauluation\n",
        "from sklearn import metrics\n",
        "print(\"R-square:\", np.sqrt(metrics.r2_score(y_test, preds)))\n",
        "print(\"MAE:\", metrics.mean_absolute_error(y_test, preds))\n",
        "print(\"MSE:\", metrics.mean_squared_error(y_test,preds))\n",
        "print(\"RMSE:\", np.sqrt(metrics.mean_squared_error(y_test, preds)))"
      ],
      "execution_count": null,
      "outputs": []
    }
  ]
}